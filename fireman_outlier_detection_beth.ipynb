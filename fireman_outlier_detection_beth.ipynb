{
 "cells": [
  {
   "cell_type": "code",
   "execution_count": 1,
   "metadata": {
    "pycharm": {
     "name": "#%%\n"
    }
   },
   "outputs": [],
   "source": [
    "from river.drift import ADWIN, DDM, EDDM, PageHinkley, HDDM_A, HDDM_W, KSWIN\n",
    "from sklearn.model_selection import train_test_split\n",
    "\n",
    "from river import compose\n",
    "from river import datasets\n",
    "from river import metrics\n",
    "from river import preprocessing\n",
    "from river import anomaly\n",
    "\n",
    "import numpy as np\n",
    "import pandas as pd\n",
    "\n",
    "import matplotlib.pyplot as plt"
   ]
  },
  {
   "cell_type": "markdown",
   "metadata": {},
   "source": [
    "base_path = '#datasets'\n",
    "df = pd.read_csv(f'{base_path}/BETH/labelled_testing_data.csv',index_col=False)\n",
    "\n",
    "df.plot(subplots=True, figsize=(16, 16)); plt.legend(loc='best')\n"
   ]
  },
  {
   "cell_type": "markdown",
   "metadata": {
    "pycharm": {
     "is_executing": true,
     "name": "#%% md\n"
    }
   },
   "source": [
    "# 4. Drift Detect"
   ]
  },
  {
   "cell_type": "code",
   "execution_count": 19,
   "metadata": {
    "pycharm": {
     "name": "#%%\n"
    }
   },
   "outputs": [
    {
     "name": "stdout",
     "output_type": "stream",
     "text": [
      "Detected drifts: {'ADWIN': 251, 'EDDM': 0, 'HDDM_A': 137, 'HDDM_W': 142, 'KSWIN': 294, 'PageHinkley': 50}\n"
     ]
    }
   ],
   "source": [
    "drift_detects = [ADWIN(), EDDM(), HDDM_A(), HDDM_W(), KSWIN(), PageHinkley()]\n",
    "\n",
    "\n",
    "drift_count = {str(key):0 for key in drift_detects}\n",
    "# Adding stream elements to ADWIN and verifying if drift occurred\n",
    "for i, val in enumerate(data_stream):\n",
    "    for j, drift_detect in enumerate(drift_detects):\n",
    "        in_drift, in_warning = drift_detect.update(val)\n",
    "        if in_drift:\n",
    "            drift_count[str(drift_detect)] += 1\n",
    "#         print('Change detected in data: ' + str(data_stream[i]) + ' - at index: ' + str(i))\n",
    "print(f'Detected drifts: {drift_count}')"
   ]
  },
  {
   "cell_type": "code",
   "execution_count": null,
   "metadata": {
    "pycharm": {
     "name": "#%%\n"
    }
   },
   "outputs": [],
   "source": []
  },
  {
   "cell_type": "code",
   "execution_count": null,
   "metadata": {},
   "outputs": [],
   "source": []
  }
 ],
 "metadata": {
  "kernelspec": {
   "display_name": "PyCharm (FIREMAN-project)",
   "language": "python",
   "name": "pycharm-17be6f1"
  },
  "language_info": {
   "codemirror_mode": {
    "name": "ipython",
    "version": 3
   },
   "file_extension": ".py",
   "mimetype": "text/x-python",
   "name": "python",
   "nbconvert_exporter": "python",
   "pygments_lexer": "ipython3",
   "version": "3.8.11"
  }
 },
 "nbformat": 4,
 "nbformat_minor": 1
}