{
 "cells": [
  {
   "cell_type": "code",
   "execution_count": 1,
   "metadata": {
    "pycharm": {
     "name": "#%%\n"
    }
   },
   "outputs": [],
   "source": [
    "from pysad.models import xStream\n",
    "from pysad.transform.probability_calibration import ConformalProbabilityCalibrator\n",
    "from pysad.utils import Data\n",
    "from river.drift import ADWIN, DDM, EDDM, PageHinkley, HDDM_A, HDDM_W, KSWIN\n",
    "from sklearn.model_selection import train_test_split\n",
    "\n",
    "from river import compose\n",
    "from river import datasets\n",
    "from river import metrics\n",
    "from river import preprocessing\n",
    "from river import anomaly\n",
    "\n",
    "import numpy as np\n",
    "import pandas as pd\n",
    "\n",
    "import matplotlib.pyplot as plt"
   ]
  },
  {
   "cell_type": "markdown",
   "metadata": {},
   "source": [
    "# 2. Dataset"
   ]
  },
  {
   "cell_type": "code",
   "execution_count": 2,
   "metadata": {
    "pycharm": {
     "name": "#%%\n"
    }
   },
   "outputs": [],
   "source": [
    "base_path = '#datasets'\n",
    "dataset_scaled = pd.read_csv(f'{base_path}/Tennessee_Event-Driven/datasets/dataset_standard_scaled.csv',index_col=False)\n"
   ]
  },
  {
   "cell_type": "markdown",
   "source": [
    "# 3. Stream Machine Learning"
   ],
   "metadata": {
    "collapsed": false
   }
  },
  {
   "cell_type": "code",
   "execution_count": 3,
   "outputs": [],
   "source": [
    "samples = dataset_scaled[dataset_scaled.columns[:-1]]\n",
    "labels = dataset_scaled[dataset_scaled.columns[-1]].to_frame()"
   ],
   "metadata": {
    "collapsed": false,
    "pycharm": {
     "name": "#%%\n"
    }
   }
  },
  {
   "cell_type": "markdown",
   "metadata": {},
   "source": [
    "# 4. Concept Drift Detection\n",
    "I stole this picture from :\n",
    "\n",
    "    \"Gama, J., Žliobaitė, I., Bifet, A., Pechenizkiy, M., & Bouchachia, A. (2014). A survey on concept drift adaptation. ACM computing surveys (CSUR), 46(4), 1-37.\"\n",
    "\n",
    "I think it nicely shows categoies of concept drifts.\n",
    "![missing_image](images/Pattern_of_change_over_time_(outlier_is_not_concept_drift).png \"Pattern of change over time (outlier is not concept drift)\")"
   ]
  },
  {
   "cell_type": "code",
   "execution_count": 4,
   "outputs": [],
   "source": [
    "# check where the fault_id changes - i.e. the concept_drift should occur and mark that sample with \"1\" (initial sample has NA - fill with 0)\n",
    "dataset_scaled['fault_id_change'] = dataset_scaled['fault_id'].diff().fillna(0)"
   ],
   "metadata": {
    "collapsed": false,
    "pycharm": {
     "name": "#%%\n"
    }
   }
  },
  {
   "cell_type": "code",
   "execution_count": 5,
   "outputs": [
    {
     "data": {
      "text/plain": "       xmeas_1   xmeas_2   xmeas_3   xmeas_4   xmeas_5   xmeas_6   xmeas_7  \\\n1460 -0.135542 -0.524896 -0.492994 -0.054211 -0.987287 -1.285137 -0.168249   \n2900 -0.030999 -0.343700 -0.419469  0.073448  0.924679 -1.495925 -0.157704   \n4340  0.004211 -0.621376 -0.233271 -0.353160  1.616335  0.794846 -0.243386   \n5780 -0.085480  0.618753  0.693899 -0.421029  1.241872 -0.138201 -0.246023   \n7220  0.176494 -0.190743  0.045548 -0.043977  1.003977 -0.404786 -0.185386   \n\n       xmeas_8   xmeas_9  xmeas_10  ...     xmv_4     xmv_5     xmv_6  \\\n1460  0.878383 -0.164558 -0.150351  ... -0.276954  0.037310  0.036727   \n2900  0.953235 -0.164558 -0.069701  ... -0.431869  0.173012  0.076962   \n4340 -0.039332  0.274466 -0.144001  ... -0.434017  0.052163  0.082485   \n5780  0.366895  2.762265 -0.090784  ... -0.164783  0.075118  0.024657   \n7220  0.894757  0.128125 -0.039473  ... -0.522443  0.133517  0.077278   \n\n         xmv_7     xmv_8     xmv_9    xmv_10    xmv_11  fault_id  \\\n1460 -0.136297  2.061118 -0.065809 -0.150985 -0.452600         1   \n2900 -0.154326 -2.714047 -0.134900 -0.156721 -0.289216         2   \n4340 -1.713662 -1.349287 -0.126842 -0.071859 -0.281409         3   \n5780 -0.346862 -0.140671 -0.152638  0.419007 -0.186864         4   \n7220  2.605128 -0.257992 -0.023297 -0.039635 -0.452504         5   \n\n      fault_id_change  \n1460              1.0  \n2900              1.0  \n4340              1.0  \n5780              1.0  \n7220              1.0  \n\n[5 rows x 54 columns]",
      "text/html": "<div>\n<style scoped>\n    .dataframe tbody tr th:only-of-type {\n        vertical-align: middle;\n    }\n\n    .dataframe tbody tr th {\n        vertical-align: top;\n    }\n\n    .dataframe thead th {\n        text-align: right;\n    }\n</style>\n<table border=\"1\" class=\"dataframe\">\n  <thead>\n    <tr style=\"text-align: right;\">\n      <th></th>\n      <th>xmeas_1</th>\n      <th>xmeas_2</th>\n      <th>xmeas_3</th>\n      <th>xmeas_4</th>\n      <th>xmeas_5</th>\n      <th>xmeas_6</th>\n      <th>xmeas_7</th>\n      <th>xmeas_8</th>\n      <th>xmeas_9</th>\n      <th>xmeas_10</th>\n      <th>...</th>\n      <th>xmv_4</th>\n      <th>xmv_5</th>\n      <th>xmv_6</th>\n      <th>xmv_7</th>\n      <th>xmv_8</th>\n      <th>xmv_9</th>\n      <th>xmv_10</th>\n      <th>xmv_11</th>\n      <th>fault_id</th>\n      <th>fault_id_change</th>\n    </tr>\n  </thead>\n  <tbody>\n    <tr>\n      <th>1460</th>\n      <td>-0.135542</td>\n      <td>-0.524896</td>\n      <td>-0.492994</td>\n      <td>-0.054211</td>\n      <td>-0.987287</td>\n      <td>-1.285137</td>\n      <td>-0.168249</td>\n      <td>0.878383</td>\n      <td>-0.164558</td>\n      <td>-0.150351</td>\n      <td>...</td>\n      <td>-0.276954</td>\n      <td>0.037310</td>\n      <td>0.036727</td>\n      <td>-0.136297</td>\n      <td>2.061118</td>\n      <td>-0.065809</td>\n      <td>-0.150985</td>\n      <td>-0.452600</td>\n      <td>1</td>\n      <td>1.0</td>\n    </tr>\n    <tr>\n      <th>2900</th>\n      <td>-0.030999</td>\n      <td>-0.343700</td>\n      <td>-0.419469</td>\n      <td>0.073448</td>\n      <td>0.924679</td>\n      <td>-1.495925</td>\n      <td>-0.157704</td>\n      <td>0.953235</td>\n      <td>-0.164558</td>\n      <td>-0.069701</td>\n      <td>...</td>\n      <td>-0.431869</td>\n      <td>0.173012</td>\n      <td>0.076962</td>\n      <td>-0.154326</td>\n      <td>-2.714047</td>\n      <td>-0.134900</td>\n      <td>-0.156721</td>\n      <td>-0.289216</td>\n      <td>2</td>\n      <td>1.0</td>\n    </tr>\n    <tr>\n      <th>4340</th>\n      <td>0.004211</td>\n      <td>-0.621376</td>\n      <td>-0.233271</td>\n      <td>-0.353160</td>\n      <td>1.616335</td>\n      <td>0.794846</td>\n      <td>-0.243386</td>\n      <td>-0.039332</td>\n      <td>0.274466</td>\n      <td>-0.144001</td>\n      <td>...</td>\n      <td>-0.434017</td>\n      <td>0.052163</td>\n      <td>0.082485</td>\n      <td>-1.713662</td>\n      <td>-1.349287</td>\n      <td>-0.126842</td>\n      <td>-0.071859</td>\n      <td>-0.281409</td>\n      <td>3</td>\n      <td>1.0</td>\n    </tr>\n    <tr>\n      <th>5780</th>\n      <td>-0.085480</td>\n      <td>0.618753</td>\n      <td>0.693899</td>\n      <td>-0.421029</td>\n      <td>1.241872</td>\n      <td>-0.138201</td>\n      <td>-0.246023</td>\n      <td>0.366895</td>\n      <td>2.762265</td>\n      <td>-0.090784</td>\n      <td>...</td>\n      <td>-0.164783</td>\n      <td>0.075118</td>\n      <td>0.024657</td>\n      <td>-0.346862</td>\n      <td>-0.140671</td>\n      <td>-0.152638</td>\n      <td>0.419007</td>\n      <td>-0.186864</td>\n      <td>4</td>\n      <td>1.0</td>\n    </tr>\n    <tr>\n      <th>7220</th>\n      <td>0.176494</td>\n      <td>-0.190743</td>\n      <td>0.045548</td>\n      <td>-0.043977</td>\n      <td>1.003977</td>\n      <td>-0.404786</td>\n      <td>-0.185386</td>\n      <td>0.894757</td>\n      <td>0.128125</td>\n      <td>-0.039473</td>\n      <td>...</td>\n      <td>-0.522443</td>\n      <td>0.133517</td>\n      <td>0.077278</td>\n      <td>2.605128</td>\n      <td>-0.257992</td>\n      <td>-0.023297</td>\n      <td>-0.039635</td>\n      <td>-0.452504</td>\n      <td>5</td>\n      <td>1.0</td>\n    </tr>\n  </tbody>\n</table>\n<p>5 rows × 54 columns</p>\n</div>"
     },
     "execution_count": 5,
     "metadata": {},
     "output_type": "execute_result"
    }
   ],
   "source": [
    "dataset_scaled[dataset_scaled['fault_id_change'] != 0].head()"
   ],
   "metadata": {
    "collapsed": false,
    "pycharm": {
     "name": "#%%\n"
    }
   }
  },
  {
   "cell_type": "code",
   "execution_count": 6,
   "metadata": {
    "pycharm": {
     "name": "#%%\n"
    }
   },
   "outputs": [],
   "source": [
    "# magnitude of row vectors - concept drift detectors take as input single value not list/vector\n",
    "dataset_scaled['magnitude'] = dataset_scaled[dataset_scaled.columns[:-1]].apply(np.linalg.norm, axis=1)\n",
    "data_stream = dataset_scaled['magnitude'].values"
   ]
  },
  {
   "cell_type": "code",
   "execution_count": 7,
   "metadata": {
    "pycharm": {
     "name": "#%%\n"
    }
   },
   "outputs": [
    {
     "name": "stdout",
     "output_type": "stream",
     "text": [
      "Detected drifts: {'ADWIN': 251, 'EDDM': 0, 'HDDM_A': 137, 'HDDM_W': 142, 'KSWIN': 292, 'PageHinkley': 50}\n"
     ]
    }
   ],
   "source": [
    "drift_detects = [ADWIN(), EDDM(), HDDM_A(), HDDM_W(), KSWIN(), PageHinkley()]\n",
    "\n",
    "\n",
    "drift_count = {str(key):0 for key in drift_detects}\n",
    "# Adding stream elements to ADWIN and verifying if drift occurred\n",
    "for i, val in enumerate(data_stream):\n",
    "    for j, drift_detect in enumerate(drift_detects):\n",
    "        in_drift, in_warning = drift_detect.update(val)\n",
    "        if in_drift:\n",
    "            drift_count[str(drift_detect)] += 1\n",
    "#         print('Change detected in data: ' + str(data_stream[i]) + ' - at index: ' + str(i))\n",
    "print(f'Detected drifts: {drift_count}')"
   ]
  },
  {
   "cell_type": "markdown",
   "source": [
    "# 5. Anomaly Detection\n",
    "Using River first\n"
   ],
   "metadata": {
    "collapsed": false,
    "pycharm": {
     "name": "#%% md\n"
    }
   }
  },
  {
   "cell_type": "code",
   "execution_count": 8,
   "metadata": {
    "pycharm": {
     "name": "#%%\n"
    }
   },
   "outputs": [
    {
     "name": "stdout",
     "output_type": "stream",
     "text": [
      "Anamolies detected: 647\n"
     ]
    }
   ],
   "source": [
    "model = compose.Pipeline(\n",
    "     preprocessing.MinMaxScaler(),\n",
    "     anomaly.HalfSpaceTrees(seed=42)\n",
    " )\n",
    "\n",
    "river_hst_count = 0\n",
    "river_hst_score = []\n",
    "\n",
    "for i, val in dataset_scaled.iterrows():\n",
    "    features = val.to_dict()\n",
    "    model = model.learn_one(features)\n",
    "    # print(f'Anomaly score for x={val:.3f}: {hst.score_one(features):.3f}')\n",
    "    score = model.score_one(features)\n",
    "    river_hst_score.append(score)\n",
    "    if score >= 0.95:\n",
    "        river_hst_count += 1\n",
    "print(f'Anamolies detected: {river_hst_count}')"
   ]
  },
  {
   "cell_type": "code",
   "execution_count": 9,
   "outputs": [
    {
     "data": {
      "text/plain": "<Figure size 432x288 with 1 Axes>",
      "image/png": "[encoded data removed]"
     },
     "metadata": {
      "needs_background": "light"
     },
     "output_type": "display_data"
    }
   ],
   "source": [
    "fig = plt.figure()\n",
    "ax = fig.add_axes([0,0,1,1])\n",
    "ax.bar(np.arange(1,len(river_hst_score)+1),river_hst_score)\n",
    "plt.show()"
   ],
   "metadata": {
    "collapsed": false,
    "pycharm": {
     "name": "#%%\n"
    }
   }
  },
  {
   "cell_type": "markdown",
   "source": [
    "## PySad"
   ],
   "metadata": {
    "collapsed": false,
    "pycharm": {
     "name": "#%% md\n"
    }
   }
  },
  {
   "cell_type": "code",
   "execution_count": null,
   "metadata": {
    "pycharm": {
     "is_executing": true
    }
   },
   "outputs": [
    {
     "name": "stdout",
     "output_type": "stream",
     "text": [
      "31700\n",
      "Alert: 20th data point is anomalous.\n",
      "Alert: 22th data point is anomalous.\n",
      "Alert: 23th data point is anomalous.\n",
      "Alert: 41th data point is anomalous.\n",
      "Alert: 50th data point is anomalous.\n",
      "Alert: 51th data point is anomalous.\n",
      "Alert: 130th data point is anomalous.\n",
      "Alert: 140th data point is anomalous.\n",
      "Alert: 200th data point is anomalous.\n",
      "Alert: 201th data point is anomalous.\n",
      "Alert: 218th data point is anomalous.\n",
      "Alert: 296th data point is anomalous.\n",
      "Alert: 338th data point is anomalous.\n",
      "Alert: 346th data point is anomalous.\n",
      "Alert: 361th data point is anomalous.\n",
      "Alert: 362th data point is anomalous.\n",
      "Alert: 395th data point is anomalous.\n",
      "Alert: 476th data point is anomalous.\n",
      "Alert: 481th data point is anomalous.\n",
      "Alert: 482th data point is anomalous.\n",
      "Alert: 487th data point is anomalous.\n",
      "Alert: 491th data point is anomalous.\n",
      "Alert: 494th data point is anomalous.\n",
      "Alert: 515th data point is anomalous.\n",
      "Alert: 640th data point is anomalous.\n",
      "Alert: 641th data point is anomalous.\n",
      "Alert: 701th data point is anomalous.\n",
      "Alert: 706th data point is anomalous.\n",
      "Alert: 719th data point is anomalous.\n",
      "Alert: 755th data point is anomalous.\n",
      "Alert: 770th data point is anomalous.\n",
      "Alert: 771th data point is anomalous.\n",
      "Alert: 794th data point is anomalous.\n",
      "Alert: 801th data point is anomalous.\n",
      "Alert: 855th data point is anomalous.\n",
      "Alert: 864th data point is anomalous.\n",
      "Alert: 926th data point is anomalous.\n",
      "Alert: 929th data point is anomalous.\n",
      "Alert: 946th data point is anomalous.\n",
      "Alert: 984th data point is anomalous.\n",
      "Alert: 988th data point is anomalous.\n",
      "Alert: 997th data point is anomalous.\n",
      "Alert: 1051th data point is anomalous.\n",
      "Alert: 1060th data point is anomalous.\n",
      "Alert: 1073th data point is anomalous.\n",
      "Alert: 1132th data point is anomalous.\n",
      "Alert: 1135th data point is anomalous.\n",
      "Alert: 1138th data point is anomalous.\n",
      "Alert: 1147th data point is anomalous.\n",
      "Alert: 1158th data point is anomalous.\n",
      "Alert: 1162th data point is anomalous.\n",
      "Alert: 1164th data point is anomalous.\n",
      "Alert: 1274th data point is anomalous.\n",
      "Alert: 1278th data point is anomalous.\n",
      "Alert: 1280th data point is anomalous.\n",
      "Alert: 1281th data point is anomalous.\n",
      "Alert: 1287th data point is anomalous.\n",
      "Alert: 1293th data point is anomalous.\n",
      "Alert: 1330th data point is anomalous.\n",
      "Alert: 1336th data point is anomalous.\n",
      "Alert: 1338th data point is anomalous.\n",
      "Alert: 1340th data point is anomalous.\n",
      "Alert: 1342th data point is anomalous.\n",
      "Alert: 1343th data point is anomalous.\n",
      "Alert: 1346th data point is anomalous.\n",
      "Alert: 1354th data point is anomalous.\n",
      "Alert: 1599th data point is anomalous.\n",
      "Alert: 1602th data point is anomalous.\n",
      "Alert: 1648th data point is anomalous.\n",
      "Alert: 1725th data point is anomalous.\n",
      "Alert: 1727th data point is anomalous.\n",
      "Alert: 1738th data point is anomalous.\n",
      "Alert: 1741th data point is anomalous.\n",
      "Alert: 1748th data point is anomalous.\n",
      "Alert: 1814th data point is anomalous.\n",
      "Alert: 1826th data point is anomalous.\n",
      "Alert: 1828th data point is anomalous.\n",
      "Alert: 1832th data point is anomalous.\n",
      "Alert: 1833th data point is anomalous.\n",
      "Alert: 1836th data point is anomalous.\n",
      "Alert: 1842th data point is anomalous.\n",
      "Alert: 1844th data point is anomalous.\n",
      "Alert: 1845th data point is anomalous.\n",
      "Alert: 1846th data point is anomalous.\n",
      "Alert: 1847th data point is anomalous.\n",
      "Alert: 1914th data point is anomalous.\n",
      "Alert: 1924th data point is anomalous.\n",
      "Alert: 1928th data point is anomalous.\n",
      "Alert: 1929th data point is anomalous.\n",
      "Alert: 1931th data point is anomalous.\n",
      "Alert: 1933th data point is anomalous.\n",
      "Alert: 2029th data point is anomalous.\n",
      "Alert: 2039th data point is anomalous.\n",
      "Alert: 2040th data point is anomalous.\n",
      "Alert: 2041th data point is anomalous.\n",
      "Alert: 2043th data point is anomalous.\n",
      "Alert: 2046th data point is anomalous.\n",
      "Alert: 2237th data point is anomalous.\n",
      "Alert: 2238th data point is anomalous.\n",
      "Alert: 2243th data point is anomalous.\n",
      "Alert: 2244th data point is anomalous.\n",
      "Alert: 2247th data point is anomalous.\n",
      "Alert: 2306th data point is anomalous.\n",
      "Alert: 2310th data point is anomalous.\n",
      "Alert: 2311th data point is anomalous.\n",
      "Alert: 2314th data point is anomalous.\n",
      "Alert: 2317th data point is anomalous.\n",
      "Alert: 2380th data point is anomalous.\n",
      "Alert: 2382th data point is anomalous.\n",
      "Alert: 2384th data point is anomalous.\n",
      "Alert: 2394th data point is anomalous.\n",
      "Alert: 2398th data point is anomalous.\n",
      "Alert: 2503th data point is anomalous.\n",
      "Alert: 2508th data point is anomalous.\n",
      "Alert: 2510th data point is anomalous.\n",
      "Alert: 2512th data point is anomalous.\n",
      "Alert: 2514th data point is anomalous.\n",
      "Alert: 2516th data point is anomalous.\n",
      "Alert: 2517th data point is anomalous.\n",
      "Alert: 2519th data point is anomalous.\n",
      "Alert: 2631th data point is anomalous.\n",
      "Alert: 2677th data point is anomalous.\n",
      "Alert: 2701th data point is anomalous.\n",
      "Alert: 2704th data point is anomalous.\n",
      "Alert: 2712th data point is anomalous.\n",
      "Alert: 2741th data point is anomalous.\n",
      "Alert: 2742th data point is anomalous.\n",
      "Alert: 2878th data point is anomalous.\n",
      "Alert: 2892th data point is anomalous.\n",
      "Alert: 3024th data point is anomalous.\n",
      "Alert: 3030th data point is anomalous.\n",
      "Alert: 3031th data point is anomalous.\n",
      "Alert: 3033th data point is anomalous.\n",
      "Alert: 3038th data point is anomalous.\n",
      "Alert: 3044th data point is anomalous.\n",
      "Alert: 3046th data point is anomalous.\n",
      "Alert: 3047th data point is anomalous.\n",
      "Alert: 3048th data point is anomalous.\n",
      "Alert: 3205th data point is anomalous.\n",
      "Alert: 3207th data point is anomalous.\n",
      "Alert: 3208th data point is anomalous.\n",
      "Alert: 3210th data point is anomalous.\n",
      "Alert: 3212th data point is anomalous.\n",
      "Alert: 3214th data point is anomalous.\n",
      "Alert: 3215th data point is anomalous.\n",
      "Alert: 3218th data point is anomalous.\n",
      "Alert: 3220th data point is anomalous.\n",
      "Alert: 3223th data point is anomalous.\n",
      "Alert: 3449th data point is anomalous.\n",
      "Alert: 3451th data point is anomalous.\n",
      "Alert: 3452th data point is anomalous.\n",
      "Alert: 3456th data point is anomalous.\n",
      "Alert: 3458th data point is anomalous.\n",
      "Alert: 3466th data point is anomalous.\n",
      "Alert: 3467th data point is anomalous.\n",
      "Alert: 3469th data point is anomalous.\n",
      "Alert: 3471th data point is anomalous.\n",
      "Alert: 3473th data point is anomalous.\n",
      "Alert: 3530th data point is anomalous.\n",
      "Alert: 3531th data point is anomalous.\n",
      "Alert: 3551th data point is anomalous.\n",
      "Alert: 3552th data point is anomalous.\n",
      "Alert: 3554th data point is anomalous.\n",
      "Alert: 3555th data point is anomalous.\n",
      "Alert: 3560th data point is anomalous.\n",
      "Alert: 3640th data point is anomalous.\n",
      "Alert: 3828th data point is anomalous.\n",
      "Alert: 3835th data point is anomalous.\n",
      "Alert: 3840th data point is anomalous.\n",
      "Alert: 3841th data point is anomalous.\n",
      "Alert: 3851th data point is anomalous.\n",
      "Alert: 3852th data point is anomalous.\n",
      "Alert: 3853th data point is anomalous.\n",
      "Alert: 3856th data point is anomalous.\n",
      "Alert: 3857th data point is anomalous.\n",
      "Alert: 3860th data point is anomalous.\n",
      "Alert: 3861th data point is anomalous.\n",
      "Alert: 3862th data point is anomalous.\n",
      "Alert: 3863th data point is anomalous.\n",
      "Alert: 3864th data point is anomalous.\n",
      "Alert: 3870th data point is anomalous.\n",
      "Alert: 3871th data point is anomalous.\n",
      "Alert: 3872th data point is anomalous.\n",
      "Alert: 3873th data point is anomalous.\n",
      "Alert: 3881th data point is anomalous.\n",
      "Alert: 3882th data point is anomalous.\n",
      "Alert: 3883th data point is anomalous.\n",
      "Alert: 3884th data point is anomalous.\n",
      "Alert: 3892th data point is anomalous.\n",
      "Alert: 3894th data point is anomalous.\n",
      "Alert: 3895th data point is anomalous.\n",
      "Alert: 3999th data point is anomalous.\n",
      "Alert: 4000th data point is anomalous.\n",
      "Alert: 4001th data point is anomalous.\n",
      "Alert: 4007th data point is anomalous.\n",
      "Alert: 4008th data point is anomalous.\n",
      "Alert: 4009th data point is anomalous.\n",
      "Alert: 4012th data point is anomalous.\n",
      "Alert: 4013th data point is anomalous.\n",
      "Alert: 4017th data point is anomalous.\n",
      "Alert: 4023th data point is anomalous.\n",
      "Alert: 4102th data point is anomalous.\n",
      "Alert: 4110th data point is anomalous.\n",
      "Alert: 4227th data point is anomalous.\n",
      "Alert: 4238th data point is anomalous.\n",
      "Alert: 4241th data point is anomalous.\n",
      "Alert: 4249th data point is anomalous.\n",
      "Alert: 4253th data point is anomalous.\n",
      "Alert: 4254th data point is anomalous.\n",
      "Alert: 4257th data point is anomalous.\n",
      "Alert: 4264th data point is anomalous.\n",
      "Alert: 4410th data point is anomalous.\n",
      "Alert: 4411th data point is anomalous.\n",
      "Alert: 4412th data point is anomalous.\n",
      "Alert: 4413th data point is anomalous.\n",
      "Alert: 4421th data point is anomalous.\n",
      "Alert: 4450th data point is anomalous.\n",
      "Alert: 4451th data point is anomalous.\n",
      "Alert: 4457th data point is anomalous.\n",
      "Alert: 4467th data point is anomalous.\n",
      "Alert: 4468th data point is anomalous.\n",
      "Alert: 4469th data point is anomalous.\n",
      "Alert: 4500th data point is anomalous.\n",
      "Alert: 4501th data point is anomalous.\n",
      "Alert: 4529th data point is anomalous.\n",
      "Alert: 4532th data point is anomalous.\n",
      "Alert: 4574th data point is anomalous.\n",
      "Alert: 4580th data point is anomalous.\n",
      "Alert: 4586th data point is anomalous.\n",
      "Alert: 4595th data point is anomalous.\n",
      "Alert: 4597th data point is anomalous.\n",
      "Alert: 4674th data point is anomalous.\n",
      "Alert: 4685th data point is anomalous.\n",
      "Alert: 4693th data point is anomalous.\n",
      "Alert: 4694th data point is anomalous.\n",
      "Alert: 4696th data point is anomalous.\n"
     ]
    }
   ],
   "source": [
    "np.random.seed(61)  # Fix seed.\n",
    "\n",
    "model = xStream()  # Init model.\n",
    "calibrator = ConformalProbabilityCalibrator(windowed=True, window_size=300)  # Init probability calibrator.\n",
    "streaming_data = Data(\"data\").get_iterator(\"arrhythmia.mat\")  # Get streamer.\n",
    "\n",
    "xstream_count = 0\n",
    "xstream_score = []\n",
    "print(len(data_stream))\n",
    "for i, x in enumerate(data_stream): # Stream data.\n",
    "    anomaly_score = model.fit_score_partial(x)  # Fit to an instance x and score it.\n",
    "\n",
    "    calibrated_score = calibrator.fit_transform(anomaly_score)  # Fit & calibrate score.\n",
    "\n",
    "    xstream_score.append(calibrated_score)\n",
    "    # Output if the instance is anomalous.\n",
    "    if calibrated_score > 0.95:  # If probability of being normal is less than 5%.\n",
    "        xstream_count += 1\n",
    "        print(f\"Alert: {i}th data point is anomalous.\")\n",
    "print(f'Anamolies detected: {xstream_count}')"
   ]
  },
  {
   "cell_type": "code",
   "execution_count": null,
   "outputs": [],
   "source": [
    "fig = plt.figure()\n",
    "ax = fig.add_axes([0,0,1,1])\n",
    "ax.bar(np.arange(1,len(xstream_score)+1),xstream_score)\n",
    "plt.show()"
   ],
   "metadata": {
    "collapsed": false,
    "pycharm": {
     "name": "#%%\n",
     "is_executing": true
    }
   }
  }
 ],
 "metadata": {
  "kernelspec": {
   "display_name": "PyCharm (FIREMAN-project)",
   "language": "python",
   "name": "pycharm-17be6f1"
  },
  "language_info": {
   "codemirror_mode": {
    "name": "ipython",
    "version": 3
   },
   "file_extension": ".py",
   "mimetype": "text/x-python",
   "name": "python",
   "nbconvert_exporter": "python",
   "pygments_lexer": "ipython3",
   "version": "3.8.11"
  }
 },
 "nbformat": 4,
 "nbformat_minor": 1
}