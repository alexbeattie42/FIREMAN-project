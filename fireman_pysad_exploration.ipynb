{
 "cells": [
  {
   "cell_type": "code",
   "execution_count": 17,
   "metadata": {},
   "outputs": [],
   "source": [
    "# Import modules.\n",
    "from pysad.transform.probability_calibration import ConformalProbabilityCalibrator\n",
    "from sklearn.utils import shuffle\n",
    "from pysad.evaluation import AUROCMetric\n",
    "from pysad.models import xStream\n",
    "from pysad.utils import ArrayStreamer\n",
    "from pysad.transform.postprocessing import RunningAveragePostprocessor\n",
    "from pysad.transform.preprocessing import InstanceUnitNormScaler\n",
    "from pysad.utils import Data\n",
    "from tqdm import tqdm\n",
    "import numpy as np"
   ]
  },
  {
   "cell_type": "code",
   "execution_count": 19,
   "metadata": {
    "pycharm": {
     "name": "#%%\n"
    }
   },
   "outputs": [
    {
     "name": "stdout",
     "output_type": "stream",
     "text": [
      "Alert: 21th data point is anomalous.\n",
      "Alert: 23th data point is anomalous.\n",
      "Alert: 49th data point is anomalous.\n",
      "Alert: 50th data point is anomalous.\n",
      "Alert: 53th data point is anomalous.\n",
      "Alert: 62th data point is anomalous.\n",
      "Alert: 64th data point is anomalous.\n",
      "Alert: 71th data point is anomalous.\n",
      "Alert: 80th data point is anomalous.\n",
      "Alert: 83th data point is anomalous.\n",
      "Alert: 87th data point is anomalous.\n",
      "Alert: 96th data point is anomalous.\n",
      "Alert: 100th data point is anomalous.\n",
      "Alert: 109th data point is anomalous.\n",
      "Alert: 132th data point is anomalous.\n",
      "Alert: 141th data point is anomalous.\n",
      "Alert: 261th data point is anomalous.\n",
      "Alert: 265th data point is anomalous.\n",
      "Alert: 274th data point is anomalous.\n",
      "Alert: 275th data point is anomalous.\n",
      "Alert: 278th data point is anomalous.\n",
      "Alert: 281th data point is anomalous.\n",
      "Alert: 286th data point is anomalous.\n",
      "Alert: 289th data point is anomalous.\n",
      "Alert: 297th data point is anomalous.\n",
      "Alert: 298th data point is anomalous.\n",
      "Alert: 342th data point is anomalous.\n",
      "Alert: 381th data point is anomalous.\n",
      "Alert: 382th data point is anomalous.\n",
      "Alert: 389th data point is anomalous.\n",
      "Alert: 406th data point is anomalous.\n",
      "Alert: 408th data point is anomalous.\n",
      "Alert: 421th data point is anomalous.\n"
     ]
    }
   ],
   "source": [
    "np.random.seed(61)  # Fix seed.\n",
    "\n",
    "model = xStream()  # Init model.\n",
    "calibrator = ConformalProbabilityCalibrator(windowed=True, window_size=300)  # Init probability calibrator.\n",
    "streaming_data = Data(\"data\").get_iterator(\"arrhythmia.mat\")  # Get streamer.\n",
    "\n",
    "for i, (x, y_true) in enumerate(streaming_data):  # Stream data.\n",
    "    anomaly_score = model.fit_score_partial(x)  # Fit to an instance x and score it.\n",
    "\n",
    "    calibrated_score = calibrator.fit_transform(anomaly_score)  # Fit & calibrate score.\n",
    "\n",
    "    # Output if the instance is anomalous.\n",
    "    if calibrated_score > 0.95:  # If probability of being normal is less than 5%.\n",
    "        print(f\"Alert: {i}th data point is anomalous.\")"
   ]
  },
  {
   "cell_type": "code",
   "execution_count": null,
   "metadata": {
    "pycharm": {
     "name": "#%%\n"
    }
   },
   "outputs": [],
   "source": [
    "# Get data to stream.\n",
    "data = Data(\"data\")\n",
    "X_all, y_all = data.get_data(\"arrhythmia.mat\")\n",
    "X_all, y_all = shuffle(X_all, y_all)\n",
    "\n",
    "iterator = ArrayStreamer(shuffle=False)  # Init streamer to simulate streaming data.\n",
    "\n",
    "model = xStream()  # Init xStream anomaly detection model.\n",
    "preprocessor = InstanceUnitNormScaler()  # Init normalizer.\n",
    "postprocessor = RunningAveragePostprocessor(window_size=5)  # Init running average postprocessor.\n",
    "auroc = AUROCMetric()  # Init area under receiver-operating- characteristics curve metric.\n",
    "\n",
    "for X, y in tqdm(iterator.iter(X_all[100:], y_all[100:])):  # Stream data.\n",
    "    X = preprocessor.fit_transform_partial(X)  # Fit preprocessor to and transform the instance.\n",
    "\n",
    "    score = model.fit_score_partial(X)  # Fit model to and score the instance.\n",
    "    score = postprocessor.fit_transform_partial(score)  # Apply running averaging to the score.\n",
    "\n",
    "    auroc.update(y, score)  # Update AUROC metric.\n",
    "\n",
    "# Output resulting AUROCS metric.\n",
    "print(\"AUROC: \", auroc.get())"
   ]
  }
 ],
 "metadata": {
  "kernelspec": {
   "display_name": "Python 3 (ipykernel)",
   "language": "python",
   "name": "python3"
  },
  "language_info": {
   "codemirror_mode": {
    "name": "ipython",
    "version": 3
   },
   "file_extension": ".py",
   "mimetype": "text/x-python",
   "name": "python",
   "nbconvert_exporter": "python",
   "pygments_lexer": "ipython3",
   "version": "3.8.12"
  }
 },
 "nbformat": 4,
 "nbformat_minor": 1
}